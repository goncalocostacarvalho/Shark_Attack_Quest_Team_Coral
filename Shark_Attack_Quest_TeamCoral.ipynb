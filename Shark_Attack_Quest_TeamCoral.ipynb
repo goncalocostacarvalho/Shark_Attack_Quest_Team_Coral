{
 "cells": [
  {
   "cell_type": "code",
   "execution_count": null,
   "id": "f9063c26",
   "metadata": {},
   "outputs": [],
   "source": [
    "import seaborn as sns\n",
    "import matplotlib.pyplot as plt\n",
    "import pandas as pd\n",
    "import numpy as np"
   ]
  },
  {
   "cell_type": "code",
   "execution_count": null,
   "id": "d5b65038",
   "metadata": {},
   "outputs": [],
   "source": [
    "!pip install xlrd"
   ]
  },
  {
   "cell_type": "code",
   "execution_count": null,
   "id": "62a23369",
   "metadata": {},
   "outputs": [],
   "source": [
    "link=\"https://www.sharkattackfile.net/spreadsheets/GSAF5.xls\""
   ]
  },
  {
   "cell_type": "code",
   "execution_count": null,
   "id": "ba0fed91",
   "metadata": {},
   "outputs": [],
   "source": [
    "df=pd.read_excel(link)"
   ]
  },
  {
   "cell_type": "code",
   "execution_count": null,
   "id": "ee10144c",
   "metadata": {},
   "outputs": [],
   "source": [
    "quest_shark=df.copy()"
   ]
  },
  {
   "cell_type": "code",
   "execution_count": null,
   "id": "af2fb759",
   "metadata": {
    "scrolled": true
   },
   "outputs": [],
   "source": [
    "quest_shark.head(10)"
   ]
  },
  {
   "cell_type": "code",
   "execution_count": null,
   "id": "77b54010",
   "metadata": {},
   "outputs": [],
   "source": [
    "quest_shark.shape"
   ]
  },
  {
   "cell_type": "code",
   "execution_count": null,
   "id": "378eb0ec",
   "metadata": {
    "scrolled": true
   },
   "outputs": [],
   "source": [
    "quest_shark.info()"
   ]
  },
  {
   "cell_type": "markdown",
   "id": "4a7fe6ce",
   "metadata": {},
   "source": [
    "# Cleaning Data:\n",
    "- We will remove the columns that we will not need.\n",
    "- We will remove rows from the DataFrame quest_shark where all values in the row are missing (NaN).\n",
    "- We will remove rows from the DataFrame quest_shark that have less than 8 non-null values.\n",
    "- We will check if we have duplicates and remove them from our DataFrame\n",
    "\n",
    "\n"
   ]
  },
  {
   "cell_type": "code",
   "execution_count": null,
   "id": "2a37283b",
   "metadata": {},
   "outputs": [],
   "source": [
    "quest_shark.columns=quest_shark.columns.str.lower().str.replace(\" \",\"_\")"
   ]
  },
  {
   "cell_type": "code",
   "execution_count": null,
   "id": "eda6f798",
   "metadata": {},
   "outputs": [],
   "source": [
    "quest_shark=quest_shark.drop(columns=['unnamed:_22','unnamed:_21','original_order','case_number.1','case_number',\n",
    "                       'href','href_formula','pdf','unnamed:_11','source'])\n"
   ]
  },
  {
   "cell_type": "code",
   "execution_count": null,
   "id": "b1a586b8",
   "metadata": {},
   "outputs": [],
   "source": [
    "quest_shark.head()"
   ]
  },
  {
   "cell_type": "code",
   "execution_count": null,
   "id": "1c796e08",
   "metadata": {},
   "outputs": [],
   "source": [
    "quest_shark.shape"
   ]
  },
  {
   "cell_type": "code",
   "execution_count": null,
   "id": "069f0bbc",
   "metadata": {},
   "outputs": [],
   "source": [
    "quest_shark.dropna(how=\"all\",inplace=True)"
   ]
  },
  {
   "cell_type": "code",
   "execution_count": null,
   "id": "920ecea5",
   "metadata": {},
   "outputs": [],
   "source": [
    "quest_shark.shape"
   ]
  },
  {
   "cell_type": "code",
   "execution_count": null,
   "id": "fc862f1a",
   "metadata": {},
   "outputs": [],
   "source": [
    "quest_shark=quest_shark.dropna(thresh=7)"
   ]
  },
  {
   "cell_type": "code",
   "execution_count": null,
   "id": "5ce0db2e",
   "metadata": {},
   "outputs": [],
   "source": [
    "quest_shark.shape"
   ]
  },
  {
   "cell_type": "code",
   "execution_count": null,
   "id": "afb8ca6c",
   "metadata": {},
   "outputs": [],
   "source": [
    "quest_shark=quest_shark.dropna(subset='year')"
   ]
  },
  {
   "cell_type": "code",
   "execution_count": null,
   "id": "2d8d9efe",
   "metadata": {},
   "outputs": [],
   "source": [
    "quest_shark['year'] =quest_shark['year'].astype(str)\n",
    "quest_shark['year'] =quest_shark[\"year\"].str.replace(\".0\", \"\")"
   ]
  },
  {
   "cell_type": "code",
   "execution_count": null,
   "id": "48c27160",
   "metadata": {
    "scrolled": true
   },
   "outputs": [],
   "source": [
    "quest_shark['year'].value_counts()"
   ]
  },
  {
   "cell_type": "code",
   "execution_count": null,
   "id": "0b98ccab",
   "metadata": {},
   "outputs": [],
   "source": [
    "quest_shark.duplicated().sum()"
   ]
  },
  {
   "cell_type": "code",
   "execution_count": null,
   "id": "50056978",
   "metadata": {
    "scrolled": true
   },
   "outputs": [],
   "source": [
    "quest_shark=quest_shark.drop_duplicates()"
   ]
  },
  {
   "cell_type": "code",
   "execution_count": null,
   "id": "ab1c0851",
   "metadata": {
    "scrolled": true
   },
   "outputs": [],
   "source": [
    "len(quest_shark)"
   ]
  },
  {
   "cell_type": "markdown",
   "id": "455850ed",
   "metadata": {},
   "source": [
    "#### Cleaning Columns:\n",
    "We used a for loop to check what do we have inside each column we will need in our studies for \"MARILM\"\n",
    "- After cleaning the sex ,we create a pie plot showing the distribution of victims by sex using the 'sex' column from our DataFrame quest_shark.\n",
    "- We cleaned the Age , with filling the none values with 'ffill method' which is filling with forward value.\n",
    "- We cleaned the injuries column according to the severity of the injury, same thing for the activities, we tried to clean them according to similar activities , and we put them in a list , that we used to replace with it in our column to have it more clear , better then have thousand of different activities. \n",
    "- For Species we used the same method we used in activities and injuries plus 'mapped method', to create a new species of shark which is the \"Great Shark\", 70% of the attacks are made by white shark, great shark and tiger shark.\n",
    "- The mapped method we also used it for cleaning the type of attacks. \n"
   ]
  },
  {
   "cell_type": "code",
   "execution_count": null,
   "id": "dbc5bd3b",
   "metadata": {},
   "outputs": [],
   "source": [
    "list_sex=quest_shark.sex.unique()\n",
    "for sex in list_sex:\n",
    "    print(sex)"
   ]
  },
  {
   "cell_type": "code",
   "execution_count": null,
   "id": "19dc139d",
   "metadata": {},
   "outputs": [],
   "source": [
    "sex_mapped={'M ':'M','N':'M',' M':'M','.':'M','M x 2':'M','lli':'M'}\n",
    "quest_shark['sex'].replace(sex_mapped, inplace= True)\n",
    "quest_shark['sex'].fillna('F/M', inplace=True)\n",
    "quest_shark['sex'].value_counts()"
   ]
  },
  {
   "cell_type": "code",
   "execution_count": null,
   "id": "78fa3edf",
   "metadata": {},
   "outputs": [],
   "source": [
    "sex_of_victims=quest_shark.sex.value_counts()\n",
    "\n",
    "sex_of_victims.plot.pie(autopct='%.1f%%')\n",
    "plt.axis('equal')\n",
    "plt.show()"
   ]
  },
  {
   "cell_type": "code",
   "execution_count": null,
   "id": "bb969c59",
   "metadata": {
    "scrolled": true
   },
   "outputs": [],
   "source": [
    "quest_shark.isnull().any()"
   ]
  },
  {
   "cell_type": "code",
   "execution_count": null,
   "id": "3f3a6c0c",
   "metadata": {},
   "outputs": [],
   "source": [
    "quest_shark.info()"
   ]
  },
  {
   "cell_type": "code",
   "execution_count": null,
   "id": "6c307186",
   "metadata": {},
   "outputs": [],
   "source": [
    "quest_shark.value_counts('age')"
   ]
  },
  {
   "cell_type": "code",
   "execution_count": null,
   "id": "1ca251c9",
   "metadata": {},
   "outputs": [],
   "source": [
    "quest_shark.age.fillna(method='ffill', inplace=True)"
   ]
  },
  {
   "cell_type": "code",
   "execution_count": null,
   "id": "8211576d",
   "metadata": {},
   "outputs": [],
   "source": [
    "quest_shark.value_counts('age')"
   ]
  },
  {
   "cell_type": "code",
   "execution_count": null,
   "id": "631f7796",
   "metadata": {},
   "outputs": [],
   "source": [
    "list_age=quest_shark.age.unique()\n",
    "for age in list_age:\n",
    "    print(age)"
   ]
  },
  {
   "cell_type": "code",
   "execution_count": null,
   "id": "93337330",
   "metadata": {},
   "outputs": [],
   "source": [
    "quest_shark.age.astype(str)\n",
    "quest_shark.age=quest_shark.age.str.replace('mid-30s',\"35\").str.replace('mid-20s',\"25\")\n",
    "quest_shark.age=quest_shark.age.str.replace(\"20's\",\"25\").str.replace(\"60's\",\"65\").str.replace(\"60s\",\"65\").str.replace(\"30s\",\"35\").str.replace(\"40s\",\"45\").str.replace(\"50s\",\"55\").str.replace(\"20s\",\"25\")\n",
    "quest_shark.age=quest_shark.age.str.replace(\"20/30\",\"25\")\n",
    "quest_shark.age=quest_shark.age.str.replace(\"teen\",\"15\",case=False).str.replace(\"Elderly\",\"60\").str.replace(\"adult\",\"\").str.replace(\"(adult)\",\"\").str.replace('\"middle-age\"',\"35\").str.replace(\"young\",\"22\").str.replace('\"young\"',\"22\")\n",
    "quest_shark.age=quest_shark.age.str.replace(\"Ca. \",\"\").str.replace(\"MAKE LINE GREEN\",\"29\").str.replace(\"A.M\",\"\")\n",
    "quest_shark.age=quest_shark.age.str.replace(\"!\",\"\").str.replace(\" months\",\"\").str.replace(\"a minor\",\"12\").str.replace(\"15s\",\"15\")\n",
    "quest_shark.age=quest_shark.age.str.replace(\"20?\",\"20\").str.replace(\">\",\"\").str.replace(\"X\",\"\").str.replace(\"F\",\"\").str.replace('\"22\"',\"22\").str.replace(\"6½\",\"6\").str.replace(\"2½\",\"2\").str.replace(\"30 or 36\",\"30\").str.replace(\"32 & 30\",\"32\")\n",
    "quest_shark.age=quest_shark.age.str.replace(\"nan\",\"29\").str.replace(\"20/30\",\"25\").str.replace(\"45 and 15\", \"45\").str.replace(\"28 & 22\",\"28\").str.replace(\"22, 57, 31\",\"57\").str.replace(\"9 & 60\",\"9\").str.replace(\"28 & 26\",\"28\").str.replace(\"18 or 20\", \"19\").str.replace(\"12 or 13\",\"12\").str.replace(\"46 & 34\", \"46\").str.replace(\"28, 23 & 30\",\"28\") .str.replace(\"36 & 26\", \"36\").str.replace(\"8 or 10\",\"8\").str.replace(\"21 & ?\",\"21\").str.replace(\"33 or 37\",\"33\").str.replace(\"23 & 20\",\"23\").str.replace(\"7      &    31\",\"7\").str.replace(\"16 to 18\",\"16\").str.replace(\"21 or 26\",\"21\").str.replace(\"18 to 22\",\"18\").str.replace(\"9 & 12\",\"9\").str.replace(\"? & 19\",\"19\").str.replace(\"25 to 35\",\"25\").str.replace(\"23 & 26\",\"23\").str.replace(\"33 & 37\",\"33\").str.replace(\"25 or 28\",\"25\").str.replace(\"37, 67, 35, 27,  ? & 27\",\"35\").str.replace(\"21, 34,24 & 35\",\"34\").str.replace(\"30 & 32\",\"30\").str.replace(\"50 & 30\",\"50\").str.replace(\"17 & 35\",\"17\").str.replace(\"13 or 18\",\"13\").str.replace(\"34 & 19\",\"34\").str.replace(\"33 & 26\",\"33\").str.replace(\"2 to 3\",\"2\").str.replace(\"7 or 8\",\"7\").str.replace(\"17 & 16\",\"17\").str.replace(\"Both 11\",\"11\").str.replace(\"9 or 10\",\"9\").str.replace(\"36 & 23\",\"36\").str.replace(\"?    &   14\",\"14\").str.replace(\"10 or 12\",\"10\").str.replace(\"31 or 33\",\"31\").str.replace(\"13 or 14\",\"13\")\n",
    "quest_shark.age=quest_shark.age.str.replace(\"nan\",\"29\").str.replace(\"M\",\"29\").str.replace(\"()\",\"\").str.replace(\".\",\"29\").str.replace(\" \",\"\")"
   ]
  },
  {
   "cell_type": "code",
   "execution_count": null,
   "id": "ff84c787",
   "metadata": {},
   "outputs": [],
   "source": [
    "quest_shark.value_counts('age')"
   ]
  },
  {
   "cell_type": "code",
   "execution_count": null,
   "id": "b4744f23",
   "metadata": {},
   "outputs": [],
   "source": [
    "quest_shark.eq(\" \").sum()"
   ]
  },
  {
   "cell_type": "code",
   "execution_count": null,
   "id": "0cf7befa",
   "metadata": {},
   "outputs": [],
   "source": [
    "quest_shark.eq(\"nan \").sum()"
   ]
  },
  {
   "cell_type": "code",
   "execution_count": null,
   "id": "d6691ca2",
   "metadata": {},
   "outputs": [],
   "source": [
    "quest_shark.isna().sum()"
   ]
  },
  {
   "cell_type": "code",
   "execution_count": null,
   "id": "b0a4a0ba",
   "metadata": {},
   "outputs": [],
   "source": [
    "list_age=quest_shark.age.unique()\n",
    "for age in list_age:\n",
    "    print(age)"
   ]
  },
  {
   "cell_type": "code",
   "execution_count": null,
   "id": "71478a3c",
   "metadata": {
    "scrolled": false
   },
   "outputs": [],
   "source": [
    "quest_shark.value_counts('injury')"
   ]
  },
  {
   "cell_type": "code",
   "execution_count": null,
   "id": "c95d74e5",
   "metadata": {},
   "outputs": [],
   "source": [
    "list_injury=quest_shark.injury.unique()\n",
    "for injury in list_injury:\n",
    "    print(injury)"
   ]
  },
  {
   "cell_type": "code",
   "execution_count": null,
   "id": "66c8fd62",
   "metadata": {},
   "outputs": [],
   "source": [
    "quest_shark.injury.fillna(\"unknown\", inplace=True)"
   ]
  },
  {
   "cell_type": "code",
   "execution_count": null,
   "id": "e5b4f7c3",
   "metadata": {},
   "outputs": [],
   "source": [
    "quest_shark.value_counts('injury')"
   ]
  },
  {
   "cell_type": "code",
   "execution_count": null,
   "id": "e331034c",
   "metadata": {},
   "outputs": [],
   "source": [
    "#https://pandas.pydata.org/pandas-docs/stable/reference/api/pandas.Series.str.contains.html\n",
    "quest_shark.loc[quest_shark.injury.str.contains(\"fatal|no survivors|dead|died|kill|killed\", case=False, na=False),\"injury\"]=\"Fatal\"\n",
    "quest_shark.loc[quest_shark.injury.str.contains(\"severed|severe|serious\", case=False, na=False),\"injury\"]=\"Severe Injury\"\n",
    "quest_shark.loc[quest_shark.injury.str.contains(\"laceration|lacerations\", case=False, na=False),\"injury\"]=\"Lacerations\"\n",
    "quest_shark.loc[quest_shark.injury.str.contains(\"puncture|punctures\", case=False, na=False),\"injury\"]=\"Punctures\"\n",
    "quest_shark.loc[quest_shark.injury.str.contains(\"cut|cuts\", case=False, na=False),\"injury\"]=\"Cuts\"\n",
    "quest_shark.loc[quest_shark.injury.str.contains(\"drowning|drowned\", case=False, na=False),\"injury\"]=\"Drowning\"\n",
    "quest_shark.loc[quest_shark.injury.str.contains(\"amputated\", case=False, na=False),\"injury\"]=\"Amputated\"\n",
    "quest_shark.loc[quest_shark.injury.str.contains(\"no injury|no injuries\", case=False, na=False),\"injury\"]=\"No Injury\"\n",
    "quest_shark.loc[quest_shark.injury.str.contains(\"bit|bitten|bite\", case=False, na=False),\"injury\"]=\"Bitten\"\n",
    "quest_shark.loc[quest_shark.injury.str.contains(\"kayak|boat|surfboard\", case=False, na=False),\"injury\"]=\"Material Damage\"\n",
    "quest_shark.loc[quest_shark.injury.str.contains(\"injury|injuries|injured\", case=False, na=False),\"injury\"]=\"Injury\"\n",
    "injuries_list=[\"Fatal\",\"Lacerations\",\"Bitten\",\"Punctures\",\"Cuts\",\"Drowning\",\"Amputated\",\"Severe Injury\",\"No Injury\",\"Injury\",\"Material Damage\"]"
   ]
  },
  {
   "cell_type": "code",
   "execution_count": null,
   "id": "c00019fb",
   "metadata": {},
   "outputs": [],
   "source": [
    "quest_shark.injury=quest_shark.injury.apply(lambda x: x if x in injuries_list else \"Others\")"
   ]
  },
  {
   "cell_type": "code",
   "execution_count": null,
   "id": "ebf01922",
   "metadata": {},
   "outputs": [],
   "source": [
    "quest_shark.value_counts('injury')"
   ]
  },
  {
   "cell_type": "code",
   "execution_count": null,
   "id": "8b202c91",
   "metadata": {
    "scrolled": false
   },
   "outputs": [],
   "source": [
    "injury_graph=quest_shark.value_counts('injury')\n",
    "injury_graph.plot.bar()\n",
    "plt.title(\"Injuries List\")"
   ]
  },
  {
   "cell_type": "code",
   "execution_count": null,
   "id": "38fdd628",
   "metadata": {},
   "outputs": [],
   "source": [
    "quest_shark.value_counts(\"activity\")"
   ]
  },
  {
   "cell_type": "code",
   "execution_count": null,
   "id": "f1c7ed9c",
   "metadata": {},
   "outputs": [],
   "source": [
    "list_activity=quest_shark.activity.unique()\n",
    "for activity in list_activity:\n",
    "    print(activity)"
   ]
  },
  {
   "cell_type": "code",
   "execution_count": null,
   "id": "659f2a3d",
   "metadata": {},
   "outputs": [],
   "source": [
    "quest_shark.injury.fillna(\"unknown\", inplace=True)"
   ]
  },
  {
   "cell_type": "code",
   "execution_count": null,
   "id": "38f0df3b",
   "metadata": {},
   "outputs": [],
   "source": [
    "quest_shark.loc[quest_shark.activity.str.contains(\"surf|paddle|bodyboard|SUP|board\", case=False, na=False),\"activity\"]=\"Surfing\"\n",
    "quest_shark.loc[quest_shark.activity.str.contains(\"fishing|fihing\", case=False, na=False),\"activity\"]=\"Fishing\"\n",
    "quest_shark.loc[quest_shark.activity.str.contains(\"swimming|float|swim\", case=False, na=False),\"activity\"]=\"Swimming\"\n",
    "quest_shark.loc[quest_shark.activity.str.contains(\"filming|selfie|photo\", case=False, na=False),\"activity\"]=\"Multimedia\"\n",
    "quest_shark.loc[quest_shark.activity.str.contains(\"wading|walking|walk\", case=False, na=False),\"activity\"]=\"Wading\"\n",
    "quest_shark.loc[quest_shark.activity.str.contains(\"diving|dive|cage|snorkeling|snork\", case=False, na=False),\"activity\"]=\"Diving\"\n",
    "quest_shark.loc[quest_shark.activity.str.contains(\"kayak\", case=False, na=False),\"activity\"]=\"Kayaking\"\n",
    "quest_shark.loc[quest_shark.activity.str.contains(\"bath\", case=False, na=False),\"activity\"]=\"Bathing\"\n",
    "quest_shark.loc[quest_shark.activity.str.contains(\"disaster\", case=False, na=False),\"activity\"]=\"Sea Disaster\"\n",
    "activities_list=[\"Surfing\", \"Fishing\", \"Swimming\", \"Multimedia\", \"Wading\", \"Diving\", \"Kayaking\", \"Bathing\",\"Sea Disaster\"]"
   ]
  },
  {
   "cell_type": "code",
   "execution_count": null,
   "id": "84c58575",
   "metadata": {},
   "outputs": [],
   "source": [
    "quest_shark.activity=quest_shark.activity.apply(lambda x:x if x in activities_list else \"Others\")"
   ]
  },
  {
   "cell_type": "code",
   "execution_count": null,
   "id": "0600d835",
   "metadata": {},
   "outputs": [],
   "source": [
    "activities_list=quest_shark.activity.unique()\n",
    "activities_list"
   ]
  },
  {
   "cell_type": "code",
   "execution_count": null,
   "id": "e3c9c6ae",
   "metadata": {},
   "outputs": [],
   "source": [
    "quest_shark.value_counts(\"activity\")"
   ]
  },
  {
   "cell_type": "code",
   "execution_count": null,
   "id": "6a28caa9",
   "metadata": {},
   "outputs": [],
   "source": [
    "activity_graph=quest_shark.value_counts('injury')\n",
    "activity_graph.plot.bar()\n",
    "plt.title(\"Activities List\")"
   ]
  },
  {
   "cell_type": "code",
   "execution_count": null,
   "id": "8f1d4d79",
   "metadata": {},
   "outputs": [],
   "source": [
    "count_sex_activity = quest_shark.groupby(['sex', 'activity']).size().reset_index(name='count')\n",
    "count_sex_activity"
   ]
  },
  {
   "cell_type": "code",
   "execution_count": null,
   "id": "9b6c528b",
   "metadata": {
    "scrolled": true
   },
   "outputs": [],
   "source": [
    "sns.barplot(x='activity', y='count', hue='sex', data=count_sex_activity)\n",
    "plt.show()"
   ]
  },
  {
   "cell_type": "code",
   "execution_count": null,
   "id": "baa52b0e",
   "metadata": {
    "scrolled": true
   },
   "outputs": [],
   "source": [
    "list_species=quest_shark.species_.unique()\n",
    "for species_ in list_species:\n",
    "    print(species_)"
   ]
  },
  {
   "cell_type": "code",
   "execution_count": null,
   "id": "688ec380",
   "metadata": {},
   "outputs": [],
   "source": [
    "species_mapped={\n",
    "    'Shark involvement prior to death was not confirmed': 'Great shark',\n",
    "    'Invalid': 'Great shark',\n",
    "    'Shark involvement not confirmed': 'Great shark',\n",
    "    'Shark involvement prior to death unconfirmed': 'Great shark',\n",
    "    }\n",
    "\n",
    "quest_shark['species_'].fillna('Unknown shark', inplace=True)\n",
    "quest_shark.loc[quest_shark['species_'].str.contains('hite', case=False, na=False), 'species_'] = 'White shark'\n",
    "quest_shark.loc[quest_shark['species_'].str.contains('tiger', case=False, na=False), 'species_'] = 'Tiger shark'\n",
    "quest_shark.loc[quest_shark['species_'].str.contains('bull', case=False, na=False), 'species_'] = 'Bull shark'\n",
    "quest_shark.loc[quest_shark['species_'].str.contains('lemon', case=False, na=False), 'species_'] = 'Lemon shark'\n",
    "quest_shark.loc[quest_shark['species_'].str.contains('blacktip', case=False, na=False), 'species_'] = 'Blacktip shark'\n",
    "quest_shark.loc[quest_shark['species_'].str.contains('carribe', case=False, na=False), 'species_'] = 'Carribean shark'\n",
    "quest_shark.loc[quest_shark['species_'].str.contains('blue', case=False, na=False), 'species_'] = 'Blue shark'\n",
    "quest_shark.loc[quest_shark['species_'].str.contains('bronze', case=False, na=False), 'species_'] = 'Bronze shark'\n",
    "quest_shark.loc[quest_shark['species_'].str.contains('spinner', case=False, na=False), 'species_'] = 'Spinner shark'\n",
    "quest_shark.loc[quest_shark['species_'].str.contains('nurse', case=False, na=False), 'species_'] = 'Nurse shark'\n",
    "quest_shark.loc[quest_shark['species_'].str.contains('hammer', case=False, na=False), 'species_'] = 'Hammerhead shark'\n",
    "quest_shark.loc[quest_shark['species_'].str.contains('mako', case=False, na=False), 'species_'] = 'Mako shark'\n",
    "quest_shark.loc[quest_shark['species_'].str.contains('brow', case=False, na=False), 'species_'] = 'Brown shark'\n",
    "quest_shark.loc[quest_shark['species_'].str.contains('dusk', case=False, na=False), 'species_'] = 'Dusky shark'\n",
    "quest_shark.loc[quest_shark['species_'].str.contains('ceanic', case=False, na=False), 'species_'] = 'oceanic Whitetip shark'\n",
    "quest_shark.loc[quest_shark['species_'].str.contains('sand', case=False, na=False), 'species_'] = 'Sand shark'\n",
    "quest_shark.loc[quest_shark['species_'].str.contains('whal', case=False, na=False), 'species_'] = 'Whale shark'\n",
    "quest_shark.loc[quest_shark['species_'].str.contains('grey', case=False, na=False), 'species_'] = 'Grey shark'\n",
    "quest_shark.loc[quest_shark['species_'].str.contains(\"1'|1-|1.|2'|2-|2.|3'|3-|3.\", case=False, na=False), 'species_'] = 'S/M sharks'\n",
    "quest_shark.loc[quest_shark['species_'].str.contains(\"4'|4-|4.|5'|5-|5.|6'|6-|6.|7'|7-|7.|8'|8-|8.\", case=False, na=False), 'species_'] = 'Moderate-sized sharks'\n",
    "quest_shark.loc[quest_shark['species_'].str.contains(\"9'|9-|9.|10'|10-|10.|11'|11-|11.|12'|12-|12.|13'|13-|13.\", case=False, na=False), 'species_'] = 'Giant sharks'\n",
    "\n",
    "\n",
    "list_species=['White shark','Tiger shark','Bull shark','Lemon shark','Blacktip shark','Carribean shark','Moderate-sized sharks','Dusky shark','Blue shark','Brown shark','Bronze shark',\n",
    "             'Nurse shark','Spinner shark','Hammerhead shark','Mako shark','Giant sharks','Sand shark','Grey shark','S/M sharks','Whale shark','oceanic Whitetip shark']\n",
    "\n",
    "\n",
    "\n"
   ]
  },
  {
   "cell_type": "code",
   "execution_count": null,
   "id": "d4a88519",
   "metadata": {},
   "outputs": [],
   "source": [
    "quest_shark['species_'].replace({**{species: species for species in list_species}, **species_mapped}, inplace=True)\n",
    "\n",
    "for idx, value in quest_shark['species_'].items():\n",
    " \n",
    "    if value not in list_species and value not in species_mapped.values():\n",
    "       \n",
    "        quest_shark.at[idx, 'species_'] = 'Unknown shark'\n",
    "\n",
    "\n",
    "print(quest_shark['species_'])"
   ]
  },
  {
   "cell_type": "code",
   "execution_count": null,
   "id": "612e20d1",
   "metadata": {
    "scrolled": true
   },
   "outputs": [],
   "source": [
    "print(quest_shark.value_counts('species_'))"
   ]
  },
  {
   "cell_type": "code",
   "execution_count": null,
   "id": "b7765332",
   "metadata": {},
   "outputs": [],
   "source": [
    "sharks=quest_shark.species_.value_counts()\n",
    "\n",
    "sharks.plot.pie(autopct='%.1f%%')"
   ]
  },
  {
   "cell_type": "code",
   "execution_count": null,
   "id": "65d12bb9",
   "metadata": {
    "scrolled": true
   },
   "outputs": [],
   "source": [
    "quest_shark.value_counts('type')"
   ]
  },
  {
   "cell_type": "code",
   "execution_count": null,
   "id": "cdc0f803",
   "metadata": {},
   "outputs": [],
   "source": [
    "quest_shark['type'] = quest_shark['type'].replace([' Provoked', 'Boat'], 'provoked')\n",
    "quest_shark['type'] = quest_shark['type'].replace(['?', 'Unconfirmed','Under investigation','Unverified'], 'Questionable')\n",
    "quest_shark['type'].fillna('Invalid', inplace=True)"
   ]
  },
  {
   "cell_type": "code",
   "execution_count": null,
   "id": "7742e9a1",
   "metadata": {},
   "outputs": [],
   "source": [
    "type_mapped={' Provoked':'Provoked',\n",
    "            'Boat':'Provoked',\n",
    "             'provoked':'Provoked',\n",
    "            '?':'Questionable',\n",
    "            'Unconfirmed':'Questionable',\n",
    "            'Under Investigation':'Questionable',\n",
    "            'Unverified':'Questionable'}\n",
    "quest_shark['type'].replace(type_mapped, inplace= True)\n",
    "quest_shark['type'].fillna('Invalid', inplace=True)"
   ]
  },
  {
   "cell_type": "code",
   "execution_count": null,
   "id": "ec9c6a0a",
   "metadata": {
    "scrolled": true
   },
   "outputs": [],
   "source": [
    "quest_shark.value_counts('type')"
   ]
  },
  {
   "cell_type": "code",
   "execution_count": null,
   "id": "e48909a7",
   "metadata": {},
   "outputs": [],
   "source": [
    "type_graph=quest_shark.value_counts('type')\n",
    "type_graph.plot.bar()\n",
    "plt.title(\"type List\")"
   ]
  },
  {
   "cell_type": "markdown",
   "id": "b5e9f99f",
   "metadata": {},
   "source": [
    "## Creating a new column:\n",
    "\n",
    "We called this new column \"sea\" , and it contains the different sea's in the world surrounding the countries when the most of attacks happened.\n"
   ]
  },
  {
   "cell_type": "code",
   "execution_count": null,
   "id": "d3578810",
   "metadata": {},
   "outputs": [],
   "source": [
    "conditions = [\n",
    "    quest_shark['country'].str.contains('USA|mexico', case=False, na=False),\n",
    "    quest_shark['country'].str.contains('argentin|Uruguay|Antarctica', case=False, na=False),\n",
    "    quest_shark['country'].str.contains('Sweden|denmark|germany|Lithuania|Poland|Latvia|estonia', case=False, na=False),\n",
    "    quest_shark['country'].str.contains('cuba|jamaica|Dominican rep|Venezuela|belize|colombia', case=False, na=False),\n",
    "    quest_shark['country'].str.contains('New South Wales|Queensland|Victoria|Western Australia|South Australia|south africa', case=False, na=False),\n",
    "    quest_shark['country'].str.contains('New zealand', case=False, na=False),\n",
    "    quest_shark['country'].str.contains('bahamas', case=False, na=False),\n",
    "    quest_shark['country'].str.contains('Egypt|red sea', case=False, na=False),\n",
    "    quest_shark['country'].str.contains('australia|coral sea', case=False, na=False),\n",
    "    quest_shark['country'].str.contains('Spain|France|Monaco|Italy|Slovenia|Croatia|Bosnia and Herzegovina|Montenegro|Albania|Greece|Turkey|Cyprus|Syria|Lebanon|Libya|Tunisia|Algeria|Morocco', case=False, na=False)\n",
    "]\n",
    "\n",
    "values = [\n",
    "    'Gulf of Mexico',\n",
    "    'Argentine Sea',\n",
    "    'Baltic Sea',\n",
    "    'Caribbean Sea',\n",
    "    'Indian Ocean',\n",
    "    'Pacific Ocean',\n",
    "    'Atlantic Ocean',\n",
    "    'Red Sea',\n",
    "    'Coral sea',\n",
    "    'Mediterranean'\n",
    "]"
   ]
  },
  {
   "cell_type": "code",
   "execution_count": null,
   "id": "86247cad",
   "metadata": {},
   "outputs": [],
   "source": [
    "quest_shark['sea'] = np.select(conditions, values, default='Others')"
   ]
  },
  {
   "cell_type": "code",
   "execution_count": null,
   "id": "0aaa8c96",
   "metadata": {},
   "outputs": [],
   "source": [
    "quest_shark['sea'].value_counts()"
   ]
  },
  {
   "cell_type": "code",
   "execution_count": null,
   "id": "60f13eb7",
   "metadata": {},
   "outputs": [],
   "source": [
    "count_data = quest_shark.groupby(['species_', 'sea']).size().reset_index(name='count')\n",
    "count_data"
   ]
  },
  {
   "cell_type": "code",
   "execution_count": null,
   "id": "3b0815f0",
   "metadata": {},
   "outputs": [],
   "source": [
    "sns.barplot(x='species_', y='count', hue='sea', data=count_data)\n",
    "plt.show()"
   ]
  },
  {
   "cell_type": "markdown",
   "id": "1f7b22d4",
   "metadata": {},
   "source": [
    "### Aggregating our data:"
   ]
  },
  {
   "cell_type": "code",
   "execution_count": null,
   "id": "9f8de9bf",
   "metadata": {
    "scrolled": false
   },
   "outputs": [],
   "source": [
    "quest_shark_attacks=quest_shark.pivot_table(index=['sex','year'] ,values=['type','activity'],aggfunc='sum')\n",
    "quest_shark_attacks"
   ]
  },
  {
   "cell_type": "code",
   "execution_count": null,
   "id": "eeab4f85",
   "metadata": {},
   "outputs": [],
   "source": [
    "count_attack=quest_shark.pivot_table(index=['sex','activity'] ,values=['type'],aggfunc='count')\n",
    "count_attack"
   ]
  },
  {
   "cell_type": "code",
   "execution_count": null,
   "id": "9c3d8b16",
   "metadata": {},
   "outputs": [],
   "source": [
    "quest_shark['location'] = quest_shark['location'].str.replace(\" \", \"/\")"
   ]
  },
  {
   "cell_type": "code",
   "execution_count": null,
   "id": "84db9165",
   "metadata": {},
   "outputs": [],
   "source": [
    "quest_shark['sea'] = quest_shark['sea'].str.replace(\" \", \"/\")"
   ]
  },
  {
   "cell_type": "code",
   "execution_count": null,
   "id": "14cb8c53",
   "metadata": {
    "scrolled": true
   },
   "outputs": [],
   "source": [
    "species_in_sea=quest_shark.pivot_table(index='species_',values=['sea','location'],aggfunc='sum')\n",
    "species_in_sea"
   ]
  },
  {
   "cell_type": "markdown",
   "id": "1fc32091",
   "metadata": {},
   "source": [
    "### Questionnaire:\n",
    "\n",
    "This is a kind of questionnaire is for tourists that are planning for there holidays.\n",
    "\n",
    "They will need to type the country and city that are planning to visit and they will get an answer of how many sharks attacks happened in that city and how many shark attacks happened in the whole country. \n"
   ]
  },
  {
   "cell_type": "code",
   "execution_count": null,
   "id": "cd1679b8",
   "metadata": {},
   "outputs": [],
   "source": [
    "# your_country=input(\"Which country would you like to travel to? \")"
   ]
  },
  {
   "cell_type": "code",
   "execution_count": null,
   "id": "60a8114e",
   "metadata": {},
   "outputs": [],
   "source": [
    "#your_state=input(f\"Which state in {your_country} would you like to travel to? \")"
   ]
  },
  {
   "cell_type": "code",
   "execution_count": null,
   "id": "6de57018",
   "metadata": {},
   "outputs": [],
   "source": [
    "#len(quest_shark.country)"
   ]
  },
  {
   "cell_type": "code",
   "execution_count": null,
   "id": "1f260b63",
   "metadata": {},
   "outputs": [],
   "source": [
    "#len(quest_shark.state)"
   ]
  },
  {
   "cell_type": "code",
   "execution_count": null,
   "id": "215fc86c",
   "metadata": {},
   "outputs": [],
   "source": [
    "#quest_shark.head()"
   ]
  },
  {
   "cell_type": "code",
   "execution_count": null,
   "id": "cdf51dd7",
   "metadata": {},
   "outputs": [],
   "source": [
    "#count_country=0\n",
    "#quest_shark.country=quest_shark.country.str.lower()\n",
    "#for i in range(len(quest_shark.country)):\n",
    "    #if quest_shark.iloc[i,3]==your_country.lower():\n",
    "        #count_country+=1\n",
    "#print(count_country)"
   ]
  },
  {
   "cell_type": "code",
   "execution_count": null,
   "id": "179ba2f3",
   "metadata": {},
   "outputs": [],
   "source": [
    "#count_state=0\n",
    "#quest_shark.state=quest_shark.state.str.lower()\n",
    "#for i in range(len(quest_shark.state)):\n",
    "    #if quest_shark.iloc[i,4]==your_state.lower():\n",
    "        #count_state+=1\n",
    "#print(count_state)"
   ]
  },
  {
   "cell_type": "code",
   "execution_count": null,
   "id": "490fcc57",
   "metadata": {},
   "outputs": [],
   "source": [
    "def information_shark_attack():\n",
    "    your_country=input(\"Which country would you like to travel to? \")\n",
    "    your_state=input(f\"Which state in {your_country} would you like to travel to? \")\n",
    "    \n",
    "    count_country=0\n",
    "    quest_shark.country=quest_shark.country.str.lower()\n",
    "    for i in range(len(quest_shark.country)):\n",
    "        if quest_shark.iloc[i,3]==your_country.lower():\n",
    "            count_country+=1\n",
    "    count_state=0\n",
    "    quest_shark.state=quest_shark.state.str.lower()\n",
    "    for i in range(len(quest_shark.state)):\n",
    "        if quest_shark.iloc[i,4]==your_state.lower():\n",
    "            count_state+=1\n",
    "    if count_country==0:\n",
    "        print(f\"There is  records of shark attacks in {your_country}\")\n",
    "    elif count_state==0 and count_country!=0:\n",
    "        print(f\"There is no records of shark attacks in {your_state}, however there are records of {count_country} shark attacks in {your_country}\")\n",
    "    else:\n",
    "        percentage_shark_attack=round((count_state/count_country)*100,2)\n",
    "        print(f\"Based on previous information, {percentage_shark_attack}% of sharks attacks in {your_country} are in {your_state}\")"
   ]
  },
  {
   "cell_type": "code",
   "execution_count": null,
   "id": "d727fd08",
   "metadata": {
    "scrolled": false
   },
   "outputs": [],
   "source": [
    "information_shark_attack()"
   ]
  },
  {
   "cell_type": "code",
   "execution_count": null,
   "id": "378151a0",
   "metadata": {},
   "outputs": [],
   "source": []
  },
  {
   "cell_type": "code",
   "execution_count": null,
   "id": "0dffc02e",
   "metadata": {},
   "outputs": [],
   "source": []
  }
 ],
 "metadata": {
  "kernelspec": {
   "display_name": "Python 3 (ipykernel)",
   "language": "python",
   "name": "python3"
  },
  "language_info": {
   "codemirror_mode": {
    "name": "ipython",
    "version": 3
   },
   "file_extension": ".py",
   "mimetype": "text/x-python",
   "name": "python",
   "nbconvert_exporter": "python",
   "pygments_lexer": "ipython3",
   "version": "3.11.5"
  }
 },
 "nbformat": 4,
 "nbformat_minor": 5
}
